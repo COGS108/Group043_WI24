{
 "cells": [
  {
   "cell_type": "markdown",
   "metadata": {},
   "source": [
    "# COGS 108 - Project Proposal"
   ]
  },
  {
   "cell_type": "markdown",
   "metadata": {},
   "source": [
    "# Names\n",
    "\n",
    "- Kaleigh Mogatas A17051705 kmogatas@ucsd.edu\n",
    "- Tairan Liu A17399714 tal012@ucsd.edu\n",
    "- Teresa Tian A16878664 shtian@ucsd.edu\n",
    "- Lynna Nguyen A16906910 lnn002@ucsd.edu\n",
    "- Ella Tung A16363333 etung@ucsd.edu\n"
   ]
  },
  {
   "cell_type": "markdown",
   "metadata": {},
   "source": [
    "# Research Question"
   ]
  },
  {
   "cell_type": "markdown",
   "metadata": {},
   "source": [
    "What impacts do regions, along with production methods (conventional vs. organic) have on U.S. avocado price fluctuations ranging from 2015 to 2023?",
    "\n"
   ]
  },
  {
   "cell_type": "markdown",
   "metadata": {},
   "source": [
    "## Background and Prior Work"
   ]
  },
  {
   "cell_type": "markdown",
   "metadata": {},
   "source": [
    "\n",
    "Avocados, often hailed as a superfruit, are packed with a wide array of vitamins and minerals. Owing to their extensive health benefits, they have sustained their popularity over the past decade, consistently featuring across various culinary presentations. The consumption of avocados have become significant over the past years, thus causing an increase in demand. Because of this, the price of avocados has been affected for a number of reasons. Factors such as the seasonality of avocado production, with specific periods favoring optimal growth, the type of avocado (organic or conventional), and the region of cultivation play a role in influencing avocado’s availability and quality<a name=\"cite_ref-1\"></a>[<sup>1</sup>](#cite_note-1).\n",
    "\n",
    "Avocado prices fluctuate depending on the time of year. Tanmay Deshpande, the author of ‘Avocado Price Forecast,’ used Auto Regressive Integrated Moving Average (ARIMA) and Seasonal Auto Regressive Integrated Moving Average (SARIMA) model to find the correlation between the two types of avocado prices and the time of year. He discovered that the average prices of avocados fluctuate during a certain time of year as it would rise around September to November, but would drop again around December and January. This suggests that there may be more of a demand for avocados since they are seasonal fruits, which is why costs increase during a specific time of year in which they are produced<a name=\"cite_ref-2\"></a>[<sup>2</sup>](#cite_note-2).\n",
    "\n",
    "However, the costs of avocados also vary depending on the region of which they are produced and sold for a number of reasons. Mario Caesar, author of  ‘Avocado Price Regression w/ PyCaret & EDA,’ discusses how different areas around the United States play a big role in the contribution of avocado sales and prices, especially with the size of the bag of avocados. His article expresses how the West (excluding California) and California are more likely to purchase both conventional and organic avocados—more so conventional—in comparison to the other top five areas that purchase avocados—the Northeast, Great Lakes and South Central, which begs the question as to why there is such a difference in avocado consumption between different regions. Additionally, the type of avocado that is produced also affects cost and people’s decision to purchase as they are grown using different methods. Caesar concludes that conventional avocados that are within bags are more likely to be purchased in comparison to organic avocados since they tend to be cheaper and bigger in volume and size. Even though organic avocados are produced in a better environment, their prices are higher for that reason<a name=\"cite_ref-3\"></a>[<sup>3</sup>](#cite_note-3). \n",
    "\n",
    "\n",
    "**Citations** \n",
    "1. <a name=\"cite_note-1\"></a> [^](#cite_ref-1) Bastida, Olmo. Fresh Avocado Market in the US. *ProducePay*,  5 Oct 2023., https://producepay.com/blog/fresh-avocado-market-us/#:~:text=Price%20of%20imported%20fresh%20avocado,December%2C%20November%2C%20and%20October. Accessed 9 Feb. 2024. \n",
    "2. <a name=\"cite_note-2\"></a> [^](#cite_ref-2) Caesar, Mario. Avocado Price Regression w/ PyCaret & EDA. *Kaggle*, 2022, www.kaggle.com/code/caesarmario/avocado-price-regression-w-pycaret-eda. Accessed 9 Feb 2024. \n",
    "3. <a name=\"cite_note-3\"></a> [^](#cite_ref-3) Deshpande, Tanmay, Avocado Price Forecast- ARIMA & SARIMA. Kaggle, 2023, https://www.kaggle.com/code/tanmay111999/avocado-price-forecast-arima-sarima-detailed. Accessed 9 Feb. 2024. \n"

   ]
  },
  {
   "cell_type": "markdown",
   "metadata": {},
   "source": [
    "# Hypothesis\n"
   ]
  },
  {
   "cell_type": "markdown",
   "metadata": {},
   "source": [
    "\n",
    "In the United States, avocado prices are primarily affected by their production method, where organic avocados command higher prices than conventional ones. Additionally, regional variations and seasonal demand fluctuations play critical roles in price determination, leading to higher prices in regions with scarce supply or elevated demand during certain seasons.\n",
    "\n"

   ]
  },
  {
   "cell_type": "markdown",
   "metadata": {},
   "source": [
    "# Data"
   ]
  },
  {
   "cell_type": "markdown",
   "metadata": {},
   "source": [
    "Data Overview:\n", "\n",
    "Dataset Name: Avocado_HassAvocadoBoard_20152023v1.0.1.csv\n","\n",
    "Link to the Dataset: \n","\n",
    "https://www.kaggle.com/datasets/vakhariapujan/avocado-prices-and-sales-volume-2015-2023\n","\n",
    "Number of Observations: 53415 \n","\n",
    "Number of Variables: 12 \n","\n",
    "This dataset provides comprehensive data on Hass avocado sales, sourced from the Hass Avocado Board. It builds on previous versions introduced on Kaggle by Justin Kiggins and later updated by Valentin Joseph to include data from 2015 up until 2021. This dataset categorizes sales data by various regions and key locations within the United States, including cities and sub-regions. Notably, the aggregation of location values doesn't equate to the total for regions, which are specified as California, West, Plains, South Central, Southeast, Midsouth, Great Lakes, and Northeast. This dataset offers valuable insights into avocado sales trends across different geographical areas. \n",
    "\n"
   ]
  },
  {
   "cell_type": "markdown",
   "metadata": {},
   "source": [
    "# Ethics & Privacy"
   ]
  },
  {
   "cell_type": "markdown",
   "metadata": {},
   "source": [
    "Our data doesn’t involve human subjects, so there is no concern for informed consent. They don’t have PII concerns. We believe the avocados will not request for their personal information to be removed. Overall, since we are not using human subjects, there should be no biases, privacy, or terms of concern. Furthermore, since we found our data online, we do not plan on deleting the data after using them. The price of avocados and their origins are transparent online. We do not consider securing the data since they are transparent and can be found online.\n", "\n",
    "One bias our dataset might have is that we can only include the avocados that are sold in bigger institutions, such as supermarkets. Smaller individuals, such as farmers selling small amounts of avocados might not be accounted for. However, since we are just focusing on the impact of regions and production methods on the prices, these small individual sellers shouldn’t do much on the statistics. Since they don’t have much impact on the overall avocado prices and they appear randomly, they can be disregarded in our data analysis. \n", "\n",
    "Another impact that our project will have is that we might come to conclusions of the avocados based on their origin. People might be inclined to buy avocados from one origin and discriminate against avocados from another origin. We will address this in our writeup by stating that our data is based on transparent data collected previously. Avocado prices in different areas might fluctuate in the future and become the opposite of our conclusions.\n"
   ]
  },
  {
   "cell_type": "markdown",
   "metadata": {},
   "source": [
    "# Team Expectations "
   ]
  },
  {
   "cell_type": "markdown",
   "metadata": {},
   "source": [
    "\n",
    "\n",
    "* *Team Expectation 1*:  Punctual Participation: All team members are expected to attend meetings promptly. Should illness or unavoidable circumstances arise, members are encouraged to participate virtually to maintain continuity.\n",
    "* *Team Expectation 2*: Effective Communication: We prioritize clear, timely, and constructive communication. Keeping all members informed and engaged is essential for our collective success.\n",
    "* *Team Expectation 3*: Mutual Respect Towards Teammates: Every team member deserves to be treated with dignity and respect. We commit to fostering an inclusive environment where diverse perspectives are valued and encouraged.\n",
    "* *Team Expectation 4*: Active Contribution and Collaboration: Each member is expected to actively contribute to our project by sharing ideas, taking on tasks, and collaborating with others. Our goal is to leverage our collective strengths to achieve our research objectives.\n",
    "\nBy adhering to these expectations, our group aims to create a productive, supportive, and respectful team dynamic conducive to our project's success.\n"
    
   ]
  },
  {
   "cell_type": "markdown",
   "metadata": {},
   "source": [
    "# Project Timeline Proposal"
   ]
  },
  {
   "cell_type": "markdown",
   "metadata": {},
   "source": [
    "Specify your team's specific project timeline. An example timeline has been provided. Changes the dates, times, names, and details to fit your group's plan.\n",
    "\n",
    "If you think you will need any special resources or training outside what we have covered in COGS 108 to solve your problem, then your proposal should state these clearly. For example, if you have selected a problem that involves implementing multiple neural networks, please state this so we can make sure you know what you’re doing and so we can point you to resources you will need to implement your project. Note that you are not required to use outside methods.\n",
    "\n",
    "\n",
    "\n",
    "| Meeting Date  | Meeting Time| Completed Before Meeting  | Discuss at Meeting |\n",
    "|---|---|---|---|\n",
    "| 2/8  |  1 PM | Read & Think about COGS 108 expectations; brainstorm topics/questions  | Determine best form of communication; Discuss and decide on final project topic; discuss hypothesis; begin background research | \n",
    "| 2/11  |  10 AM |  Do background research on topic | Discuss ideal dataset(s) and ethics; draft project proposal | \n",
    "| 2/18  | 10 AM  | Edit, finalize, and submit proposal; Search for datasets  | Discuss Wrangling and possible analytical approaches; Assign group members to lead each specific part   |\n",
    "| 2/24  | 6 PM  | Import & Wrangle Data (Ant Man); EDA (Hulk) | Review/Edit wrangling/EDA; Discuss Analysis Plan   |\n",
    "| 2/29  | 12 PM  | Finalize wrangling/EDA; Begin Analysis (Iron Man; Thor) | Discuss/edit Analysis; Complete project check-in |\n",
    "| 3/1  | 12 PM  | Complete analysis; Draft results/conclusion/discussion (Wasp)| Discuss/edit full project |\n",
    "| 3/20  | Before 11:59 PM  | NA | Turn in Final Project & Group Project Surveys |"
   ]
  }
 ],
 "metadata": {
  "kernelspec": {
   "display_name": "Python 3 (ipykernel)",
   "language": "python",
   "name": "python3"
  },
  "language_info": {
   "codemirror_mode": {
    "name": "ipython",
    "version": 3
   },
   "file_extension": ".py",
   "mimetype": "text/x-python",
   "name": "python",
   "nbconvert_exporter": "python",
   "pygments_lexer": "ipython3",
   "version": "3.9.7"
  }
 },
 "nbformat": 4,
 "nbformat_minor": 2
}
